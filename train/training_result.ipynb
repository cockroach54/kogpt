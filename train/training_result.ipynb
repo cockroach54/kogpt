{
 "cells": [
  {
   "cell_type": "code",
   "execution_count": null,
   "id": "b9d600aa",
   "metadata": {},
   "outputs": [],
   "source": [
    "import matplotlib.pyplot as plt\n",
    "import json\n",
    "\n",
    "\n",
    "with open('./lora/checkpoint-4000/trainer_state.json', 'r') as f:\n",
    "    dd = json.load(f)"
   ]
  },
  {
   "cell_type": "code",
   "execution_count": null,
   "id": "9426e44a",
   "metadata": {},
   "outputs": [],
   "source": [
    "ll = [x.get('loss') for x in dd['log_history']]\n",
    "\n",
    "plt.plot(ll)\n",
    "plt.title('loss')\n",
    "plt.show()"
   ]
  },
  {
   "cell_type": "code",
   "execution_count": null,
   "id": "5407bd73",
   "metadata": {},
   "outputs": [],
   "source": [
    "lr = [x.get('learning_rate') for x in dd['log_history']]\n",
    "\n",
    "plt.plot(lr)\n",
    "plt.title('learning_rate')\n",
    "plt.show()"
   ]
  }
 ],
 "metadata": {
  "language_info": {
   "name": "python"
  }
 },
 "nbformat": 4,
 "nbformat_minor": 5
}
