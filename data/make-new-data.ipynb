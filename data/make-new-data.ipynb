{
 "cells": [
  {
   "cell_type": "code",
   "execution_count": 2,
   "metadata": {},
   "outputs": [],
   "source": [
    "import os\n",
    "import json\n",
    "from tqdm.auto import tqdm\n",
    "from time import sleep\n",
    "from typing import List, Any, Union\n",
    "\n",
    "\n",
    "def load_jsonl(fpath: str) -> List[Union[dict, list]]:\n",
    "    with open(fpath, \"r\") as f:\n",
    "        data = f.readlines()\n",
    "    data = [json.loads(x) for x in data]\n",
    "    return data\n"
   ]
  },
  {
   "attachments": {},
   "cell_type": "markdown",
   "metadata": {},
   "source": [
    "load koalpaca 1.0 data\n"
   ]
  },
  {
   "cell_type": "code",
   "execution_count": 8,
   "metadata": {},
   "outputs": [],
   "source": [
    "with open(\"./alpaca_data.json\", \"r\") as f:\n",
    "    alpaca_data = json.load(f)"
   ]
  },
  {
   "cell_type": "code",
   "execution_count": 10,
   "metadata": {},
   "outputs": [
    {
     "data": {
      "text/plain": [
       "101622"
      ]
     },
     "execution_count": 10,
     "metadata": {},
     "output_type": "execute_result"
    }
   ],
   "source": [
    "len(alpaca_data)\n"
   ]
  },
  {
   "attachments": {},
   "cell_type": "markdown",
   "metadata": {},
   "source": [
    "load koalpaca 1.1 data (naver kin)\n"
   ]
  },
  {
   "cell_type": "code",
   "execution_count": 12,
   "metadata": {},
   "outputs": [],
   "source": [
    "alpaca_data2 = load_jsonl(\"./KoAlpaca_v1.1.jsonl\")"
   ]
  },
  {
   "cell_type": "code",
   "execution_count": 13,
   "metadata": {},
   "outputs": [
    {
     "data": {
      "text/plain": [
       "21155"
      ]
     },
     "execution_count": 13,
     "metadata": {},
     "output_type": "execute_result"
    }
   ],
   "source": [
    "len(alpaca_data2)\n"
   ]
  },
  {
   "attachments": {},
   "cell_type": "markdown",
   "metadata": {},
   "source": [
    "load kochatgpt sft data\n"
   ]
  },
  {
   "cell_type": "code",
   "execution_count": 14,
   "metadata": {},
   "outputs": [],
   "source": [
    "with open(\"../ref/KoChatGPT/data_kochatgpt/kochatgpt_1_SFT.jsonl\", \"r\") as f:\n",
    "    kochat_data = json.load(f)"
   ]
  },
  {
   "cell_type": "code",
   "execution_count": 15,
   "metadata": {},
   "outputs": [
    {
     "data": {
      "text/plain": [
       "12000"
      ]
     },
     "execution_count": 15,
     "metadata": {},
     "output_type": "execute_result"
    }
   ],
   "source": [
    "len(kochat_data)\n"
   ]
  },
  {
   "attachments": {},
   "cell_type": "markdown",
   "metadata": {},
   "source": [
    "---\n",
    "\n",
    "- 데이터 형태 통일\n",
    "- RM 용 데이터 스플릿 및 인덱스 저장 해 두기\n",
    "- 새 SFT 데이터 = kochat-sft + koalpaca-1.0 20% + koalpaca-1.1 50%\n"
   ]
  },
  {
   "cell_type": "code",
   "execution_count": 20,
   "metadata": {},
   "outputs": [
    {
     "name": "stdout",
     "output_type": "stream",
     "text": [
      "({'input': '',\n",
      "  'instruction': '건강을 유지하기 위한 세 가지 팁을 알려주세요.',\n",
      "  'output': '세 가지 팁은 아침식사를 꼭 챙기며, 충분한 수면을 취하고, 적극적으로 운동을 하는 것입니다.'},\n",
      " {'instruction': '양파는 어떤 식물 부위인가요? 그리고 고구마는 뿌리인가요?',\n",
      "  'output': '양파는 잎이 아닌 식물의 줄기 부분입니다. 고구마는 식물의 뿌리 부분입니다. \\n'\n",
      "            '\\n'\n",
      "            '식물의 부위의 구분에 대해 궁금해하는 분이라면 분명 이 질문에 대한 답을 찾고 있을 것입니다. 양파는 잎이 아닌 줄기 '\n",
      "            '부분입니다. 고구마는 다른 질문과 답변에서 언급된 것과 같이 뿌리 부분입니다. 따라서, 양파는 식물의 줄기 부분이 '\n",
      "            '되고, 고구마는 식물의 뿌리 부분입니다.\\n'\n",
      "            '\\n'\n",
      "            ' 덧붙이는 답변: 고구마 줄기도 볶아먹을 수 있나요? \\n'\n",
      "            '\\n'\n",
      "            '고구마 줄기도 식용으로 볶아먹을 수 있습니다. 하지만 줄기 뿐만 아니라, 잎, 씨, 뿌리까지 모든 부위가 식용으로 '\n",
      "            '활용되기도 합니다. 다만, 한국에서는 일반적으로 뿌리 부분인 고구마를 주로 먹습니다.',\n",
      "  'url': 'https://kin.naver.com/qna/detail.naver?d1id=11&dirId=1116&docId=55320268'},\n",
      " {'completion': \"'저는 인공지능 챗봇이며, 직접적으로 식품에 관한 정보를 가지고 있지 않습니다. 하지만 일반적으로 불고기용 \"\n",
      "                '고기는 한우, 쇠고기, 돼지고기 등 다양한 종류의 고기를 사용합니다. 하지만 한우는 대표적인 고급 육류로 '\n",
      "                '알려져 있기 때문에, 한우를 사용하는 경우도 많습니다. 알러지나 개별 건강 상태에 따라 다를 수 있으니 충분한 '\n",
      "                '정보 수집 후에 선택해 주시기 바랍니다.',\n",
      "  'prompt': '불고기용 고기 한우에요?',\n",
      "  'tokens': 193})\n"
     ]
    }
   ],
   "source": [
    "from pprint import pprint\n",
    "\n",
    "pprint(\n",
    "    (alpaca_data[0],\n",
    "    alpaca_data2[0],\n",
    "    kochat_data[0],)\n",
    ")"
   ]
  },
  {
   "cell_type": "code",
   "execution_count": 29,
   "metadata": {},
   "outputs": [],
   "source": [
    "# make sampling index\n",
    "import random\n",
    "random.seed(777)"
   ]
  },
  {
   "cell_type": "code",
   "execution_count": 31,
   "metadata": {},
   "outputs": [],
   "source": [
    "alpaca_index = random.sample(range(len(alpaca_data)), int(len(alpaca_data)*0.2))\n",
    "alpaca2_index = random.sample(range(len(alpaca_data2)), int(len(alpaca_data2)*0.5))"
   ]
  },
  {
   "cell_type": "code",
   "execution_count": 49,
   "metadata": {},
   "outputs": [],
   "source": [
    "# save index\n",
    "with open('./new/sft-index.json', 'w') as f:\n",
    "    idxs = {\n",
    "        'koalpaca-1.0-sft': alpaca_index,\n",
    "        'koalpaca-1.1-sft': alpaca2_index,\n",
    "    }\n",
    "\n",
    "    json.dump(idxs, f, ensure_ascii=False, indent=2)"
   ]
  },
  {
   "cell_type": "code",
   "execution_count": 34,
   "metadata": {},
   "outputs": [
    {
     "data": {
      "text/plain": [
       "(20324, 10577)"
      ]
     },
     "execution_count": 34,
     "metadata": {},
     "output_type": "execute_result"
    }
   ],
   "source": [
    "len(alpaca_index), len(alpaca2_index)"
   ]
  },
  {
   "cell_type": "code",
   "execution_count": 52,
   "metadata": {},
   "outputs": [],
   "source": [
    "# merge all\n",
    "alpaca_smp = []\n",
    "for i in alpaca_index:\n",
    "    x = alpaca_data[i]\n",
    "    alpaca_smp.append(x)\n",
    "\n",
    "alpaca2_smp = []\n",
    "for i in alpaca2_index:\n",
    "    x = alpaca_data2[i]\n",
    "    alpaca2_smp.append(\n",
    "        {\"instruction\": x['instruction'], \"input\": \"\", 'output': x['output']}\n",
    "    )\n",
    "\n",
    "kochat_smp = [\n",
    "    {\"instruction\": x['prompt'], \"input\": \"\", 'output': x['completion']}\n",
    "    for x in kochat_data\n",
    "]"
   ]
  },
  {
   "cell_type": "code",
   "execution_count": 53,
   "metadata": {},
   "outputs": [
    {
     "name": "stdout",
     "output_type": "stream",
     "text": [
      "({'input': '버락 오바마',\n",
      "  'instruction': 'GPT를 사용하여 정치인의 캐리커처를 생성합니다.',\n",
      "  'output': '버락 오바마의 캐리커처는 미소가 있는 마주보는 얼굴, 비싼 정장, 미국 국기가 그려진 벽지와 같은 청사진을 갖출 '\n",
      "            '것입니다.'},\n",
      " {'input': '',\n",
      "  'instruction': '일식집을 창업하려면 어떻게 기술을 익혀야 할까요? 부산에서 유명한 일식집은 어디인가요?\\n'\n",
      "                 '저는 3년 내에 일식집 창업을 계획하고 있습니다. 하지만 요리 실력을 어떻게 쌓아야 할지 모르겠습니다. 직접 '\n",
      "                 '일식집에 들어가서 일을 배우는 것이 좋을까요? 또, 부산에서 유명한 일식집이 어디 있는지 알려주세요.',\n",
      "  'output': '일식집을 창업하실 계획이신다면 3년 안에 일식집 창업은 어려울 것입니다. 일식집은 다른 음식점에 비해 전문적인 실력이 '\n",
      "            '요구되기 때문입니다. 따라서, 돈이 있다면 주방장을 구해서 창업하는 것이 좋습니다. 만약 직접 일식집에서 일을 하면서 '\n",
      "            '실력을 쌓으려 한다면 먼저 조리기능사 자격증을 필수적으로 따야 합니다. 학원에 등록하여 자격증을 따신 후, 어디든 '\n",
      "            '들어가서 밑바닥부터 착실히 배워야 합니다. 하지만 이러한 과정은 쉽지 않을 것입니다. \\n'\n",
      "            '또한, 부산에서 유명한 일식집은 여러 곳이 있지만, 예전에 방영된 TV 프로그램이나 지인의 추천 등으로 유명해진 '\n",
      "            '곳들이 있으니 이러한 곳을 참고하시면 될 것입니다. \\n'\n",
      "            '그러나, 일식집을 창업하시려면 먼저 횟집이나 초밥 전문점 등을 시작하시는 것이 좋습니다. 3년 안에 일식집 창업이 '\n",
      "            '어렵다면, 처음부터 일식집을 거창하게 시작하는 것보다는 작은 규모의 레스토랑부터 시작해 경험을 쌓는 것이 유리합니다. '\n",
      "            '이러한 작은 업소에서 기본적인 실력을 쌓아나가는 것이 더 중요합니다. 따라서 한 걸음씩 조금씩 계획을 수정하고 천천히 '\n",
      "            '준비해야 하는 것이 좋습니다.'},\n",
      " {'input': '',\n",
      "  'instruction': '불고기용 고기 한우에요?',\n",
      "  'output': \"'저는 인공지능 챗봇이며, 직접적으로 식품에 관한 정보를 가지고 있지 않습니다. 하지만 일반적으로 불고기용 고기는 \"\n",
      "            '한우, 쇠고기, 돼지고기 등 다양한 종류의 고기를 사용합니다. 하지만 한우는 대표적인 고급 육류로 알려져 있기 '\n",
      "            '때문에, 한우를 사용하는 경우도 많습니다. 알러지나 개별 건강 상태에 따라 다를 수 있으니 충분한 정보 수집 후에 '\n",
      "            '선택해 주시기 바랍니다.'})\n"
     ]
    }
   ],
   "source": [
    "pprint(\n",
    "    (alpaca_smp[0],\n",
    "    alpaca2_smp[0],\n",
    "    kochat_smp[0],)\n",
    ")"
   ]
  },
  {
   "cell_type": "code",
   "execution_count": 54,
   "metadata": {},
   "outputs": [],
   "source": [
    "new_sft_data = alpaca_smp + alpaca2_smp + kochat_smp\n",
    "random.shuffle(new_sft_data)"
   ]
  },
  {
   "cell_type": "code",
   "execution_count": 55,
   "metadata": {},
   "outputs": [
    {
     "data": {
      "text/plain": [
       "42901"
      ]
     },
     "execution_count": 55,
     "metadata": {},
     "output_type": "execute_result"
    }
   ],
   "source": [
    "len(new_sft_data)"
   ]
  },
  {
   "cell_type": "code",
   "execution_count": 56,
   "metadata": {},
   "outputs": [],
   "source": [
    "# save\n",
    "with open('./new/sft.json', 'w') as f:\n",
    "    json.dump(new_sft_data, f, ensure_ascii=False, indent=2)"
   ]
  },
  {
   "cell_type": "code",
   "execution_count": null,
   "metadata": {},
   "outputs": [],
   "source": []
  }
 ],
 "metadata": {
  "kernelspec": {
   "display_name": "torchenv3.10",
   "language": "python",
   "name": "python3"
  },
  "language_info": {
   "codemirror_mode": {
    "name": "ipython",
    "version": 3
   },
   "file_extension": ".py",
   "mimetype": "text/x-python",
   "name": "python",
   "nbconvert_exporter": "python",
   "pygments_lexer": "ipython3",
   "version": "3.10.10"
  },
  "orig_nbformat": 4
 },
 "nbformat": 4,
 "nbformat_minor": 2
}
